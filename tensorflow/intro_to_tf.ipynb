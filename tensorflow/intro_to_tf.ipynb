{
  "nbformat": 4,
  "nbformat_minor": 0,
  "metadata": {
    "colab": {
      "name": "intro-to-tf.ipynb",
      "provenance": [],
      "collapsed_sections": [],
      "authorship_tag": "ABX9TyO4jr8kX6nsfjU7fZdwGK6q",
      "include_colab_link": true
    },
    "kernelspec": {
      "name": "python3",
      "display_name": "Python 3"
    }
  },
  "cells": [
    {
      "cell_type": "markdown",
      "metadata": {
        "id": "view-in-github",
        "colab_type": "text"
      },
      "source": [
        "<a href=\"https://colab.research.google.com/github/shreydan/learning-tensorflow/blob/main/intro_to_tf.ipynb\" target=\"_parent\"><img src=\"https://colab.research.google.com/assets/colab-badge.svg\" alt=\"Open In Colab\"/></a>"
      ]
    },
    {
      "cell_type": "markdown",
      "metadata": {
        "id": "Vg7FAJ9zc8Ob"
      },
      "source": [
        "# Introduction to **Tensorflow**\n",
        "\n",
        "A tensor is a generalization of vectors and matrices to potentially higher dimensions.\n",
        "in Tf: n-dimension array of base datatypes"
      ]
    },
    {
      "cell_type": "markdown",
      "metadata": {
        "id": "3K4tkYNbdhul"
      },
      "source": [
        "## Creating Tensors\n"
      ]
    },
    {
      "cell_type": "code",
      "metadata": {
        "id": "8Nc632D5XAMU"
      },
      "source": [
        "import tensorflow as tf\n",
        "string = tf.Variable(\"Shreyas\",tf.string)\n",
        "number = tf.Variable(226,tf.int16)\n",
        "floating = tf.Variable(2.135,tf.float64)"
      ],
      "execution_count": 3,
      "outputs": []
    },
    {
      "cell_type": "markdown",
      "metadata": {
        "id": "RG-dk5MAe5Hu"
      },
      "source": [
        "## Rank/Degree of Tensors\n",
        "\n",
        "It's the number of dimensions involved in a Tensor. Above ones are scalars --- of rank **0** \n",
        "\n",
        "\n",
        "1D arrays are rank 1, 2D arrays are rank 2 and so on..."
      ]
    },
    {
      "cell_type": "code",
      "metadata": {
        "colab": {
          "base_uri": "https://localhost:8080/"
        },
        "id": "OBwH0nB8fTbB",
        "outputId": "414b6d42-c388-4bbc-e110-50a5e023459d"
      },
      "source": [
        "rank1_tensor = tf.Variable([1,2,3,4,5],tf.int16)\n",
        "rank2_tensor = tf.Variable([[1,2,3],[4,5,6],[6,7,8]], tf.int16)\n",
        "\n",
        "# to get rank:\n",
        "\n",
        "print(tf.rank(rank1_tensor))\n",
        "print(tf.rank(rank2_tensor)) # = 2 cox has 2 dimensions\n"
      ],
      "execution_count": 8,
      "outputs": [
        {
          "output_type": "stream",
          "text": [
            "tf.Tensor(1, shape=(), dtype=int32)\n",
            "tf.Tensor(2, shape=(), dtype=int32)\n"
          ],
          "name": "stdout"
        }
      ]
    },
    {
      "cell_type": "markdown",
      "metadata": {
        "id": "Fkb0YnUOgK5b"
      },
      "source": [
        "## Shape of Tensors\n",
        "\n",
        "It's the amount of elements in _each dimension_\n",
        "\n"
      ]
    },
    {
      "cell_type": "code",
      "metadata": {
        "colab": {
          "base_uri": "https://localhost:8080/"
        },
        "id": "qe-9B7dvgXqA",
        "outputId": "c6f73e08-c125-4884-9e72-64c71312af98"
      },
      "source": [
        "print(rank1_tensor.shape)\n",
        "print(rank2_tensor.shape)"
      ],
      "execution_count": 7,
      "outputs": [
        {
          "output_type": "stream",
          "text": [
            "(5,)\n",
            "(3, 3)\n"
          ],
          "name": "stdout"
        }
      ]
    },
    {
      "cell_type": "markdown",
      "metadata": {
        "id": "ks03t3SVgolP"
      },
      "source": [
        "##### **note:** each row of a multi-dimensional array should have same amount of elements\n"
      ]
    },
    {
      "cell_type": "code",
      "metadata": {
        "id": "iYIwXA9aoqer"
      },
      "source": [
        "# doesntwork_tensor = tf.Variable([[1,2,3],[1,2]],tf.int16)\n",
        "# You get ValueError: Can't convert non-rectangular Python sequence to Tensor.\n",
        "\n",
        "works_tensor = tf.Variable([[1,2,3],[1,2,0]],tf.int16)"
      ],
      "execution_count": 12,
      "outputs": []
    }
  ]
}